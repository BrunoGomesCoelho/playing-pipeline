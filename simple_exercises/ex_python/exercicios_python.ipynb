{
 "cells": [
  {
   "cell_type": "markdown",
   "metadata": {},
   "source": [
    "# Bruno Gomes Coelho - 9791160"
   ]
  },
  {
   "cell_type": "code",
   "execution_count": 39,
   "metadata": {},
   "outputs": [],
   "source": [
    "import pandas as pd\n",
    "import numpy as np\n",
    "pd.set_option('display.max_columns', 50)\n",
    "\n",
    "import matplotlib.pyplot as plt\n",
    "%matplotlib inline\n",
    "import seaborn as sns\n",
    "sns.set()"
   ]
  },
  {
   "cell_type": "markdown",
   "metadata": {},
   "source": [
    "## 1 - Verifique se um número é positivo, negativo ou zero."
   ]
  },
  {
   "cell_type": "code",
   "execution_count": 3,
   "metadata": {},
   "outputs": [
    {
     "name": "stdout",
     "output_type": "stream",
     "text": [
      "Número 2 é positivo\n"
     ]
    }
   ],
   "source": [
    "num = 2\n",
    "if num > 0:\n",
    "    print(f\"Número {num} é positivo\")\n",
    "elif num < 0:\n",
    "    print(f\"Número {num} é negativo\")\n",
    "else:\n",
    "    print(f\"Número {num} é igual a zero\")"
   ]
  },
  {
   "cell_type": "markdown",
   "metadata": {},
   "source": [
    "## 2 - Implemente uma função que calcule o fatorial de um número."
   ]
  },
  {
   "cell_type": "code",
   "execution_count": 7,
   "metadata": {},
   "outputs": [
    {
     "name": "stdout",
     "output_type": "stream",
     "text": [
      "Factorial de 0: 1\n",
      "Factorial de 1: 1\n",
      "Factorial de 2: 2\n",
      "Factorial de 3: 6\n",
      "Factorial de 4: 24\n",
      "Factorial de 5: 120\n",
      "Factorial de 6: 720\n",
      "Factorial de 7: 5040\n",
      "Factorial de 8: 40320\n",
      "Factorial de 9: 362880\n"
     ]
    }
   ],
   "source": [
    "def factorial(num):\n",
    "    count = 1\n",
    "    for i in range(1, num+1):\n",
    "        count *= i\n",
    "    return count\n",
    "    \n",
    "\n",
    "# Testar\n",
    "for num in range(10):\n",
    "    print(f\"Factorial de {num}: {factorial(num)}\")"
   ]
  },
  {
   "cell_type": "markdown",
   "metadata": {},
   "source": [
    "## 3 - Calcule a sequencia de Fibonacci.\n",
    "\n",
    "**OBS**: Estamos considerando a sequência como começando em 0 e 1"
   ]
  },
  {
   "cell_type": "code",
   "execution_count": 13,
   "metadata": {},
   "outputs": [
    {
     "name": "stdout",
     "output_type": "stream",
     "text": [
      "Os 1 primeiros números de fibbonaci: [0]\n",
      "Os 15 primeiros números de fibbonaci: [0, 1, 1, 2, 3, 5, 8, 13, 21, 34, 55, 89, 144, 233, 377]\n"
     ]
    }
   ],
   "source": [
    "def fibonacci_sequence(n):\n",
    "    if n == 0:\n",
    "        sequence = []\n",
    "    elif n == 1:\n",
    "        sequence = [0]\n",
    "    else:\n",
    "        sequence = [0, 1]\n",
    "    for i in range(n-2):\n",
    "        sequence.append(sequence[-1] + sequence[-2])\n",
    "    print(f\"Os {n} primeiros números de fibbonaci: {sequence}\")\n",
    "    \n",
    "fibonacci_sequence(1)\n",
    "fibonacci_sequence(15)"
   ]
  },
  {
   "cell_type": "markdown",
   "metadata": {},
   "source": [
    "## 4 - Calcule os números primos em um intervalo definido."
   ]
  },
  {
   "cell_type": "code",
   "execution_count": 33,
   "metadata": {},
   "outputs": [
    {
     "name": "stdout",
     "output_type": "stream",
     "text": [
      "primos de 0 a 0:\t\tNão existem primos\n",
      "primos de 0 a 1:\t\t[1]\n",
      "primos de 0 a 2:\t\t[1, 2]\n",
      "primos de 0 a 3:\t\t[1, 2, 3]\n",
      "primos de 0 a 100:\t\t[1, 2, 3, 5, 7, 11, 13, 17, 19, 23, 29, 31, 37, 41, 43, 47, 53, 59, 61, 67, 71, 73, 79, 83, 89, 97]\n"
     ]
    }
   ],
   "source": [
    "def prime_nums(high):\n",
    "    # Casos especiais\n",
    "    print(f\"primos de 0 a {high}:\", end=\"\\t\\t\")\n",
    "    if high == 0:\n",
    "        print(\"Não existem primos\")\n",
    "        return\n",
    "    elif high == 1:\n",
    "        print([1])\n",
    "        return\n",
    "        \n",
    "    primes = [1, 2]\n",
    "    data = [True]*(high+1)\n",
    "    for num in range(3, high+1, 2):\n",
    "        if data[num]:\n",
    "            primes.append(num)\n",
    "            for k in range(2, (high//num)+1):\n",
    "                data[k*num] = False\n",
    "    print(primes)\n",
    "        \n",
    "prime_nums(0) \n",
    "prime_nums(1) \n",
    "prime_nums(2) \n",
    "prime_nums(3) \n",
    "prime_nums(100) "
   ]
  },
  {
   "cell_type": "markdown",
   "metadata": {},
   "source": [
    "## 5 - Implemente uma funçã que calcule a soma de uma sequência de números."
   ]
  },
  {
   "cell_type": "code",
   "execution_count": 34,
   "metadata": {},
   "outputs": [
    {
     "name": "stdout",
     "output_type": "stream",
     "text": [
      "Soma da sequencia: 15\n",
      "Soma da sequencia: 18\n"
     ]
    }
   ],
   "source": [
    "def sum_sequence(sequence):\n",
    "    count = 0\n",
    "    for num in sequence:\n",
    "        count += num\n",
    "    print(f\"Soma da sequencia: {count}\")\n",
    "\n",
    "sum_sequence([0, 1, 2, 3, 4, 5])\n",
    "sum_sequence([3, 3, 3, 3, 3, 3])"
   ]
  },
  {
   "cell_type": "markdown",
   "metadata": {},
   "source": [
    "## 6 - Gere dois vetores aleatórios de maneira independente e mostre os resultados em um scatterplot."
   ]
  },
  {
   "cell_type": "code",
   "execution_count": 40,
   "metadata": {},
   "outputs": [
    {
     "data": {
      "image/png": "[encoded data removed]",
      "text/plain": [
       "<Figure size 432x288 with 1 Axes>"
      ]
     },
     "metadata": {},
     "output_type": "display_data"
    }
   ],
   "source": [
    "size = 100\n",
    "vec1 = np.random.rand(size)\n",
    "vec2 = np.random.rand(size)\n",
    "\n",
    "sns.scatterplot(vec1, vec2)\n",
    "plt.title(\"Scatter plot de vetores aleatórios\");"
   ]
  },
  {
   "cell_type": "markdown",
   "metadata": {},
   "source": [
    "## 7 - Gere dados com distribuição Gaussiana e mostre o respectivo histograma."
   ]
  },
  {
   "cell_type": "code",
   "execution_count": 41,
   "metadata": {},
   "outputs": [
    {
     "name": "stderr",
     "output_type": "stream",
     "text": [
      "/home/bcoelho/.local/lib/python3.6/site-packages/scipy/stats/stats.py:1713: FutureWarning: Using a non-tuple sequence for multidimensional indexing is deprecated; use `arr[tuple(seq)]` instead of `arr[seq]`. In the future this will be interpreted as an array index, `arr[np.array(seq)]`, which will result either in an error or a different result.\n",
      "  return np.add.reduce(sorted[indexer] * weights, axis=axis) / sumval\n"
     ]
    },
    {
     "data": {
      "image/png": "[encoded data removed]",
      "text/plain": [
       "<Figure size 432x288 with 1 Axes>"
      ]
     },
     "metadata": {},
     "output_type": "display_data"
    }
   ],
   "source": [
    "size = 100\n",
    "vec = np.random.normal(size=size)\n",
    "\n",
    "sns.distplot(vec)\n",
    "plt.title(\"Histograma de um vetor de uma distribuição gaussiana\");"
   ]
  },
  {
   "cell_type": "markdown",
   "metadata": {},
   "source": [
    "## 8 - Gere uma tabela onde os valores das colunas seguem uma distribuição exponencial com diferentes taxas. Guarde os valores em um arquivo."
   ]
  },
  {
   "cell_type": "code",
   "execution_count": 43,
   "metadata": {},
   "outputs": [
    {
     "data": {
      "text/html": [
       "<div>\n",
       "<style scoped>\n",
       "    .dataframe tbody tr th:only-of-type {\n",
       "        vertical-align: middle;\n",
       "    }\n",
       "\n",
       "    .dataframe tbody tr th {\n",
       "        vertical-align: top;\n",
       "    }\n",
       "\n",
       "    .dataframe thead th {\n",
       "        text-align: right;\n",
       "    }\n",
       "</style>\n",
       "<table border=\"1\" class=\"dataframe\">\n",
       "  <thead>\n",
       "    <tr style=\"text-align: right;\">\n",
       "      <th></th>\n",
       "      <th>0.1</th>\n",
       "      <th>1</th>\n",
       "      <th>10</th>\n",
       "    </tr>\n",
       "  </thead>\n",
       "  <tbody>\n",
       "    <tr>\n",
       "      <th>0</th>\n",
       "      <td>0.146014</td>\n",
       "      <td>1.416834</td>\n",
       "      <td>1.699796</td>\n",
       "    </tr>\n",
       "    <tr>\n",
       "      <th>1</th>\n",
       "      <td>0.155651</td>\n",
       "      <td>0.410703</td>\n",
       "      <td>6.470463</td>\n",
       "    </tr>\n",
       "    <tr>\n",
       "      <th>2</th>\n",
       "      <td>0.041505</td>\n",
       "      <td>1.775734</td>\n",
       "      <td>12.348573</td>\n",
       "    </tr>\n",
       "    <tr>\n",
       "      <th>3</th>\n",
       "      <td>0.006799</td>\n",
       "      <td>0.186790</td>\n",
       "      <td>8.798690</td>\n",
       "    </tr>\n",
       "    <tr>\n",
       "      <th>4</th>\n",
       "      <td>0.365690</td>\n",
       "      <td>0.131156</td>\n",
       "      <td>4.154575</td>\n",
       "    </tr>\n",
       "  </tbody>\n",
       "</table>\n",
       "</div>"
      ],
      "text/plain": [
       "        0.1         1         10\n",
       "0  0.146014  1.416834   1.699796\n",
       "1  0.155651  0.410703   6.470463\n",
       "2  0.041505  1.775734  12.348573\n",
       "3  0.006799  0.186790   8.798690\n",
       "4  0.365690  0.131156   4.154575"
      ]
     },
     "execution_count": 43,
     "metadata": {},
     "output_type": "execute_result"
    }
   ],
   "source": [
    "size = 100\n",
    "rates = [0.1, 1, 10]\n",
    "\n",
    "index = [x for x in range(size)]\n",
    "df = pd.DataFrame(columns=[str(x) for x in rates], index=index)\n",
    "\n",
    "for rate in rates:\n",
    "    df[str(rate)] = np.random.exponential(scale=rate, size=size)\n",
    "df.head()"
   ]
  },
  {
   "cell_type": "code",
   "execution_count": 44,
   "metadata": {},
   "outputs": [],
   "source": [
    "df.to_csv(\"dados_exp_taxas_difrentes.csv\", index=False)"
   ]
  },
  {
   "cell_type": "code",
   "execution_count": null,
   "metadata": {},
   "outputs": [],
   "source": []
  }
 ],
 "metadata": {
  "kernelspec": {
   "display_name": "Python 3",
   "language": "python",
   "name": "python3"
  },
  "language_info": {
   "codemirror_mode": {
    "name": "ipython",
    "version": 3
   },
   "file_extension": ".py",
   "mimetype": "text/x-python",
   "name": "python",
   "nbconvert_exporter": "python",
   "pygments_lexer": "ipython3",
   "version": "3.6.5rc1"
  },
  "toc": {
   "base_numbering": 1,
   "nav_menu": {},
   "number_sections": false,
   "sideBar": true,
   "skip_h1_title": false,
   "title_cell": "Table of Contents",
   "title_sidebar": "Contents",
   "toc_cell": false,
   "toc_position": {},
   "toc_section_display": true,
   "toc_window_display": false
  }
 },
 "nbformat": 4,
 "nbformat_minor": 2
}
